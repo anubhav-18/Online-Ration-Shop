{
 "cells": [
  {
   "cell_type": "code",
   "execution_count": 8,
   "metadata": {},
   "outputs": [
    {
     "name": "stdout",
     "output_type": "stream",
     "text": [
      "n =  123\n",
      "Number of digits: 3\n"
     ]
    }
   ],
   "source": [
    "n = int(input(\"Enter any Number : \"))\n",
    "print(\"n = \",n)\n",
    "cnt = 0\n",
    "\n",
    "while n != 0:\n",
    "    n //= 10\n",
    "    cnt += 1\n",
    "\n",
    "print(\"Number of digits: \" + str(cnt))"
   ]
  }
 ],
 "metadata": {
  "kernelspec": {
   "display_name": "Python 3",
   "language": "python",
   "name": "python3"
  },
  "language_info": {
   "codemirror_mode": {
    "name": "ipython",
    "version": 3
   },
   "file_extension": ".py",
   "mimetype": "text/x-python",
   "name": "python",
   "nbconvert_exporter": "python",
   "pygments_lexer": "ipython3",
   "version": "3.11.2"
  },
  "orig_nbformat": 4,
  "vscode": {
   "interpreter": {
    "hash": "b98f472bb8ba48098397e3b897b5be76f7bf0e62d98845cdb0e8066dc5677259"
   }
  }
 },
 "nbformat": 4,
 "nbformat_minor": 2
}
