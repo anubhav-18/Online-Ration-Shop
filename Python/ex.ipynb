{
 "cells": [
  {
   "cell_type": "code",
   "execution_count": 61,
   "metadata": {},
   "outputs": [
    {
     "name": "stdout",
     "output_type": "stream",
     "text": [
      "[1, 2, 3, 45, 6, 7, 8]\n",
      "[1, 2, 3, 45, 6, 7, 8, 5]\n"
     ]
    }
   ],
   "source": [
    "# l1 = [1,2,['a','b'],'a']\n",
    "# l2 = [1,2,('a','b'),'a']\n",
    "# l1.reverse()\n",
    "# l3 = [1,2,3,4,5,2] \n",
    "# l4 = l3.copy() \n",
    "# l4.append(5)\n",
    "# l3[::-1]\n",
    "# print(l3)\n",
    "# print(l4)\n",
    "# wap to performing cloning of a list using slicing operator .\n",
    "l1 = [1,2,3,45,6,7,8]\n",
    "l2 = l1[:]\n",
    "l2.append(5)\n",
    "print(l1)\n",
    "print(l2)\n",
    "\n",
    "\n",
    "\n",
    "# l3.sort(reverse = True)\n",
    "# print(l3)\n",
    "# is\n",
    "# del l1[3] \n",
    "# l.clear()\n",
    "# del l \n",
    "# l.remove(25)\n",
    "# a = l.pop(2)\n",
    "# print(a)\n",
    "# print(l)\n",
    "# print(l1 in l2)\n",
    "# print(l1 not in l2)\n",
    "# l1.count('b')\n",
    "# l2.count('b')\n",
    "# l1.count(20)\n",
    "# s1 = 'higuys'\n",
    "# s2 = 'hello'\n",
    "# print( s1 in s2)\n",
    "# print(s1 not in s2)\n",
    "# print(s1 + s2)\n"
   ]
  },
  {
   "cell_type": "code",
   "execution_count": null,
   "metadata": {},
   "outputs": [],
   "source": []
  }
 ],
 "metadata": {
  "kernelspec": {
   "display_name": "Python 3",
   "language": "python",
   "name": "python3"
  },
  "language_info": {
   "codemirror_mode": {
    "name": "ipython",
    "version": 3
   },
   "file_extension": ".py",
   "mimetype": "text/x-python",
   "name": "python",
   "nbconvert_exporter": "python",
   "pygments_lexer": "ipython3",
   "version": "3.11.2"
  },
  "orig_nbformat": 4
 },
 "nbformat": 4,
 "nbformat_minor": 2
}
