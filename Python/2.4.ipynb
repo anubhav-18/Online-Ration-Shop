{
 "cells": [
  {
   "cell_type": "code",
   "execution_count": 3,
   "metadata": {},
   "outputs": [
    {
     "name": "stdout",
     "output_type": "stream",
     "text": [
      "n =  153\n",
      "Armstrong number\n"
     ]
    }
   ],
   "source": [
    "n = int(input(\"Enter a number to check whether is Armstrong or Not : \"))\n",
    "print(\"n = \",n)\n",
    "sum = 0\n",
    "l = len(str(n))\n",
    "temp = n\n",
    "while temp > 0:\n",
    "   digit = temp % 10\n",
    "   sum +=  digit ** l\n",
    "   temp //= 10\n",
    "\n",
    "if n == sum:\n",
    "   print(\"Armstrong number\")\n",
    "else:\n",
    "   print(\"Not an Armstrong number\")"
   ]
  }
 ],
 "metadata": {
  "kernelspec": {
   "display_name": "Python 3",
   "language": "python",
   "name": "python3"
  },
  "language_info": {
   "codemirror_mode": {
    "name": "ipython",
    "version": 3
   },
   "file_extension": ".py",
   "mimetype": "text/x-python",
   "name": "python",
   "nbconvert_exporter": "python",
   "pygments_lexer": "ipython3",
   "version": "3.11.2"
  },
  "orig_nbformat": 4,
  "vscode": {
   "interpreter": {
    "hash": "b98f472bb8ba48098397e3b897b5be76f7bf0e62d98845cdb0e8066dc5677259"
   }
  }
 },
 "nbformat": 4,
 "nbformat_minor": 2
}
