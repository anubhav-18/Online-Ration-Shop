{
 "cells": [
  {
   "cell_type": "code",
   "execution_count": 1,
   "metadata": {},
   "outputs": [
    {
     "name": "stdout",
     "output_type": "stream",
     "text": [
      "Centimeter =  10.0\n",
      "Meter =  0.1\n",
      "Kilometer =  0.0001\n"
     ]
    }
   ],
   "source": [
    "centimeter = float(input(\"Enter any Length in Centimeter\"))\n",
    "meter = centimeter/100\n",
    "kilometer = centimeter/100000\n",
    "print(\"Centimeter = \",centimeter)\n",
    "print(\"Meter = \", meter)\n",
    "print(\"Kilometer = \",kilometer)"
   ]
  }
 ],
 "metadata": {
  "kernelspec": {
   "display_name": "Python 3",
   "language": "python",
   "name": "python3"
  },
  "language_info": {
   "codemirror_mode": {
    "name": "ipython",
    "version": 3
   },
   "file_extension": ".py",
   "mimetype": "text/x-python",
   "name": "python",
   "nbconvert_exporter": "python",
   "pygments_lexer": "ipython3",
   "version": "3.11.2"
  },
  "orig_nbformat": 4,
  "vscode": {
   "interpreter": {
    "hash": "b98f472bb8ba48098397e3b897b5be76f7bf0e62d98845cdb0e8066dc5677259"
   }
  }
 },
 "nbformat": 4,
 "nbformat_minor": 2
}
