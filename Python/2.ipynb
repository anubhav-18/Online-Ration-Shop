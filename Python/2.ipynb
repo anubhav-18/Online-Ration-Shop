{
 "cells": [
  {
   "cell_type": "code",
   "execution_count": 1,
   "metadata": {},
   "outputs": [
    {
     "name": "stdout",
     "output_type": "stream",
     "text": [
      "10\n",
      "Anubhav\n",
      "[7, 8, 9]\n",
      "5 6 7\n",
      "10\n"
     ]
    },
    {
     "data": {
      "text/plain": [
       "' \\ntype = 10         \\nvar1 , var2 = 10  \\nvar3 := 10 \\n'"
      ]
     },
     "execution_count": 1,
     "metadata": {},
     "output_type": "execute_result"
    }
   ],
   "source": [
    "#VALID\n",
    "a = 10 \n",
    "print(a)\n",
    "b = 'Anubhav'\n",
    "print(b)\n",
    "c = [7,8,9]\n",
    "print(c)\n",
    "d,e,f = 5,6,7\n",
    "print(d,e,f)\n",
    "x = y = z = 10\n",
    "print(y)\n",
    "\n",
    "#INVALID\n",
    "''' \n",
    "type = 10         \n",
    "var1 , var2 = 10  \n",
    "var3 := 10 \n",
    "'''\n",
    "\n"
   ]
  }
 ],
 "metadata": {
  "kernelspec": {
   "display_name": "Python 3",
   "language": "python",
   "name": "python3"
  },
  "language_info": {
   "codemirror_mode": {
    "name": "ipython",
    "version": 3
   },
   "file_extension": ".py",
   "mimetype": "text/x-python",
   "name": "python",
   "nbconvert_exporter": "python",
   "pygments_lexer": "ipython3",
   "version": "3.11.2"
  },
  "orig_nbformat": 4,
  "vscode": {
   "interpreter": {
    "hash": "b98f472bb8ba48098397e3b897b5be76f7bf0e62d98845cdb0e8066dc5677259"
   }
  }
 },
 "nbformat": 4,
 "nbformat_minor": 2
}
