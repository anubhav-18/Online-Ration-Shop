{
 "cells": [
  {
   "cell_type": "code",
   "execution_count": 5,
   "metadata": {},
   "outputs": [
    {
     "data": {
      "text/plain": [
       "9"
      ]
     },
     "execution_count": 5,
     "metadata": {},
     "output_type": "execute_result"
    }
   ],
   "source": [
    "def max(a , b , c ):\n",
    "    if a>b & a> c :\n",
    "        return a\n",
    "    elif b>c:\n",
    "        return b \n",
    "    else :\n",
    "        return c\n",
    "\n",
    "max(5,9,9)\n"
   ]
  },
  {
   "cell_type": "code",
   "execution_count": 10,
   "metadata": {},
   "outputs": [
    {
     "name": "stdout",
     "output_type": "stream",
     "text": [
      "5\n"
     ]
    }
   ],
   "source": [
    "def pnt(a):\n",
    "    a = 5 \n",
    "    print(a)\n",
    "pnt(10)"
   ]
  },
  {
   "cell_type": "code",
   "execution_count": 17,
   "metadata": {},
   "outputs": [
    {
     "name": "stdout",
     "output_type": "stream",
     "text": [
      "[1, 2, 3, 4]\n",
      "outside [10, 20, 30, [10, 20, 30], [10, 20, 30]]\n"
     ]
    }
   ],
   "source": [
    "def cngnme(mylist):\n",
    "    mylist = [1,2,3,4]\n",
    "    print(mylist)\n",
    "    return\n",
    "mylist.append([10,20,30])\n",
    "cngnme(mylist)\n",
    "print(\"outside\",mylist)"
   ]
  },
  {
   "cell_type": "code",
   "execution_count": 21,
   "metadata": {},
   "outputs": [
    {
     "name": "stdout",
     "output_type": "stream",
     "text": [
      "a 10\n",
      "b 20\n",
      "c 30\n"
     ]
    }
   ],
   "source": [
    "def sum(a,b,c):\n",
    "    d = a \n",
    "    e = b \n",
    "    f = c\n",
    "    print(\"a\",d)\n",
    "    print(\"b\",e)\n",
    "    print(\"c\",f)\n",
    "\n",
    "sum(10,20,30)"
   ]
  },
  {
   "cell_type": "code",
   "execution_count": 22,
   "metadata": {},
   "outputs": [
    {
     "ename": "TypeError",
     "evalue": "sum() missing 1 required positional argument: 'c'",
     "output_type": "error",
     "traceback": [
      "\u001b[1;31m---------------------------------------------------------------------------\u001b[0m",
      "\u001b[1;31mTypeError\u001b[0m                                 Traceback (most recent call last)",
      "Cell \u001b[1;32mIn[22], line 9\u001b[0m\n\u001b[0;32m      6\u001b[0m     \u001b[39mprint\u001b[39m(\u001b[39m\"\u001b[39m\u001b[39mb\u001b[39m\u001b[39m\"\u001b[39m,e)\n\u001b[0;32m      7\u001b[0m     \u001b[39mprint\u001b[39m(\u001b[39m\"\u001b[39m\u001b[39mc\u001b[39m\u001b[39m\"\u001b[39m,f)\n\u001b[1;32m----> 9\u001b[0m \u001b[39msum\u001b[39;49m(\u001b[39m10\u001b[39;49m,\u001b[39m20\u001b[39;49m)\n",
      "\u001b[1;31mTypeError\u001b[0m: sum() missing 1 required positional argument: 'c'"
     ]
    }
   ],
   "source": [
    "def sum(a,b,c):\n",
    "    d = a \n",
    "    e = b \n",
    "    f = c\n",
    "    print(\"a\",d)\n",
    "    print(\"b\",e)\n",
    "    print(\"c\",f)\n",
    "\n",
    "sum(10,20)"
   ]
  },
  {
   "cell_type": "code",
   "execution_count": 23,
   "metadata": {},
   "outputs": [
    {
     "name": "stdout",
     "output_type": "stream",
     "text": [
      "a 20\n",
      "b 30\n",
      "c 10\n"
     ]
    }
   ],
   "source": [
    "def sum(a,b,c):\n",
    "    d = a \n",
    "    e = b \n",
    "    f = c\n",
    "    print(\"a\",d)\n",
    "    print(\"b\",e)\n",
    "    print(\"c\",f)\n",
    "\n",
    "sum(c=10,a=20,b=30)"
   ]
  },
  {
   "cell_type": "code",
   "execution_count": 24,
   "metadata": {},
   "outputs": [
    {
     "ename": "TypeError",
     "evalue": "sum() missing 2 required positional arguments: 'a' and 'b'",
     "output_type": "error",
     "traceback": [
      "\u001b[1;31m---------------------------------------------------------------------------\u001b[0m",
      "\u001b[1;31mTypeError\u001b[0m                                 Traceback (most recent call last)",
      "Cell \u001b[1;32mIn[24], line 8\u001b[0m\n\u001b[0;32m      5\u001b[0m     \u001b[39mprint\u001b[39m(b)\n\u001b[0;32m      6\u001b[0m     \u001b[39mprint\u001b[39m(c)\n\u001b[1;32m----> 8\u001b[0m \u001b[39msum\u001b[39;49m(c\u001b[39m=\u001b[39;49m\u001b[39m30\u001b[39;49m)\n",
      "\u001b[1;31mTypeError\u001b[0m: sum() missing 2 required positional arguments: 'a' and 'b'"
     ]
    }
   ],
   "source": [
    "def sum(a,b,c):\n",
    "    a = 10 \n",
    "    b = 20\n",
    "    print(a)\n",
    "    print(b)\n",
    "    print(c)\n",
    "\n",
    "sum(c=30)"
   ]
  },
  {
   "cell_type": "code",
   "execution_count": 35,
   "metadata": {},
   "outputs": [
    {
     "name": "stdout",
     "output_type": "stream",
     "text": [
      "a 10\n",
      "b 10\n",
      "c 15\n"
     ]
    }
   ],
   "source": [
    "def printn(a,b=10,c=15):\n",
    "    d = a \n",
    "    e = b \n",
    "    print(\"a\",d)\n",
    "    print(\"b\",e)\n",
    "    print(\"c\",c)\n",
    "\n",
    "\n",
    "printn(10)"
   ]
  }
 ],
 "metadata": {
  "kernelspec": {
   "display_name": "Python 3",
   "language": "python",
   "name": "python3"
  },
  "language_info": {
   "codemirror_mode": {
    "name": "ipython",
    "version": 3
   },
   "file_extension": ".py",
   "mimetype": "text/x-python",
   "name": "python",
   "nbconvert_exporter": "python",
   "pygments_lexer": "ipython3",
   "version": "3.11.2"
  },
  "orig_nbformat": 4,
  "vscode": {
   "interpreter": {
    "hash": "b98f472bb8ba48098397e3b897b5be76f7bf0e62d98845cdb0e8066dc5677259"
   }
  }
 },
 "nbformat": 4,
 "nbformat_minor": 2
}
