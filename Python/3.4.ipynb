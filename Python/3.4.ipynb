{
 "cells": [
  {
   "cell_type": "code",
   "execution_count": 1,
   "metadata": {},
   "outputs": [
    {
     "name": "stdout",
     "output_type": "stream",
     "text": [
      "The area of a circle with radius 1 is 3.14\n",
      "The area of a circle with radius 3 is 28.27\n",
      "The area of a circle with radius 4 is 50.27\n",
      "The area of a circle with radius 8 is 201.06\n",
      "The area of a circle with radius 9 is 254.47\n",
      "The area of a circle with radius 7 is 153.94\n",
      "The area of a circle with radius 6 is 113.10\n",
      "The area of a circle with radius 2 is 12.57\n",
      "The area of a circle with radius 5 is 78.54\n",
      "The area of a circle with radius 16 is 804.25\n"
     ]
    }
   ],
   "source": [
    "import math\n",
    "\n",
    "rad_list = [1,3,4,8,9,7,6,2,5,16] \n",
    "for radius in rad_list:\n",
    "    area = math.pi * radius ** 2\n",
    "    print(f\"The area of a circle with radius {radius} is {area:.2f}\")\n"
   ]
  }
 ],
 "metadata": {
  "kernelspec": {
   "display_name": "Python 3",
   "language": "python",
   "name": "python3"
  },
  "language_info": {
   "codemirror_mode": {
    "name": "ipython",
    "version": 3
   },
   "file_extension": ".py",
   "mimetype": "text/x-python",
   "name": "python",
   "nbconvert_exporter": "python",
   "pygments_lexer": "ipython3",
   "version": "3.11.2"
  },
  "orig_nbformat": 4,
  "vscode": {
   "interpreter": {
    "hash": "b98f472bb8ba48098397e3b897b5be76f7bf0e62d98845cdb0e8066dc5677259"
   }
  }
 },
 "nbformat": 4,
 "nbformat_minor": 2
}
