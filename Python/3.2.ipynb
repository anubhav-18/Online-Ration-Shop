{
 "cells": [
  {
   "cell_type": "code",
   "execution_count": 6,
   "metadata": {},
   "outputs": [
    {
     "name": "stdout",
     "output_type": "stream",
     "text": [
      "num =  6\n",
      "With Recursion: 720\n",
      "Without Recursion: 720\n"
     ]
    }
   ],
   "source": [
    "def fact_rec(n):\n",
    "    if n == 0:\n",
    "        return 1 \n",
    "    elif n < 0:\n",
    "        return \"Factorial is not defined for negative numbers\"\n",
    "    else:\n",
    "        return n * fact_rec(n-1) \n",
    "\n",
    "def fact_non(n):\n",
    "    if n < 0:\n",
    "        return \"Factorial is not defined for negative numbers\" \n",
    "    else:\n",
    "        factorial = 1\n",
    "        for i in range(1, n+1):\n",
    "            factorial = factorial * i \n",
    "        return factorial\n",
    "                \n",
    "num = int(input(\"Enter a number: \"))\n",
    "\n",
    "print(\"num = \" , num)\n",
    "print(\"With Recursion:\", fact_rec(num)) \n",
    "print(\"Without Recursion:\", fact_non(num))\n"
   ]
  }
 ],
 "metadata": {
  "kernelspec": {
   "display_name": "Python 3",
   "language": "python",
   "name": "python3"
  },
  "language_info": {
   "codemirror_mode": {
    "name": "ipython",
    "version": 3
   },
   "file_extension": ".py",
   "mimetype": "text/x-python",
   "name": "python",
   "nbconvert_exporter": "python",
   "pygments_lexer": "ipython3",
   "version": "3.11.2"
  },
  "orig_nbformat": 4,
  "vscode": {
   "interpreter": {
    "hash": "b98f472bb8ba48098397e3b897b5be76f7bf0e62d98845cdb0e8066dc5677259"
   }
  }
 },
 "nbformat": 4,
 "nbformat_minor": 2
}
