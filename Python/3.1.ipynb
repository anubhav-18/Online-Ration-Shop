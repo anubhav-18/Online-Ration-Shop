{
 "cells": [
  {
   "cell_type": "code",
   "execution_count": 14,
   "metadata": {},
   "outputs": [
    {
     "name": "stdout",
     "output_type": "stream",
     "text": [
      "n = 12345\n",
      "15\n"
     ]
    }
   ],
   "source": [
    "\n",
    "n = int(input(\"Enter any No. to find the sum of Digits: \"))\n",
    "print(\"n =\" , n )\n",
    "print(getSum(n))\n",
    "\n",
    "def getSum(n):\n",
    "\tsum = 0\n",
    "\twhile (n != 0):\n",
    "\t\tsum = sum + (n % 10)\n",
    "\t\tn = int(n/10)\n",
    "\treturn sum\n"
   ]
  }
 ],
 "metadata": {
  "kernelspec": {
   "display_name": "Python 3",
   "language": "python",
   "name": "python3"
  },
  "language_info": {
   "codemirror_mode": {
    "name": "ipython",
    "version": 3
   },
   "file_extension": ".py",
   "mimetype": "text/x-python",
   "name": "python",
   "nbconvert_exporter": "python",
   "pygments_lexer": "ipython3",
   "version": "3.11.2"
  },
  "orig_nbformat": 4,
  "vscode": {
   "interpreter": {
    "hash": "b98f472bb8ba48098397e3b897b5be76f7bf0e62d98845cdb0e8066dc5677259"
   }
  }
 },
 "nbformat": 4,
 "nbformat_minor": 2
}
