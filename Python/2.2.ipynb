{
 "cells": [
  {
   "cell_type": "code",
   "execution_count": 2,
   "metadata": {},
   "outputs": [
    {
     "name": "stdout",
     "output_type": "stream",
     "text": [
      "The month is  Feb\n",
      "Days is 28\n"
     ]
    }
   ],
   "source": [
    "num = int(input(\"Enter a number between 1 to 12: \"))\n",
    "name = [\"Jan\", \"Feb\", \"March\", \"April\", \"May\", \"June\",\n",
    " \"July\", \"August\", \"Sept\", \"Oct\", \"Nov\",\"Dec\"]\n",
    "days = [31, 28, 31, 30, 31, 30, 31, 31, 30, 31, 30, 31]\n",
    "if num >= 1 and num <= 12:\n",
    "    name = name[num-1]\n",
    "    days = days[num-1]\n",
    "    print(\"The month is \",name )\n",
    "    print(\"Days is\", days)\n",
    "else:\n",
    "    print(\"Invalid input. Please enter a number from 1 to 12.\")"
   ]
  }
 ],
 "metadata": {
  "kernelspec": {
   "display_name": "Python 3",
   "language": "python",
   "name": "python3"
  },
  "language_info": {
   "codemirror_mode": {
    "name": "ipython",
    "version": 3
   },
   "file_extension": ".py",
   "mimetype": "text/x-python",
   "name": "python",
   "nbconvert_exporter": "python",
   "pygments_lexer": "ipython3",
   "version": "3.11.2"
  },
  "orig_nbformat": 4,
  "vscode": {
   "interpreter": {
    "hash": "b98f472bb8ba48098397e3b897b5be76f7bf0e62d98845cdb0e8066dc5677259"
   }
  }
 },
 "nbformat": 4,
 "nbformat_minor": 2
}
